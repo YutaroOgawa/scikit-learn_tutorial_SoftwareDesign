{
  "nbformat": 4,
  "nbformat_minor": 0,
  "metadata": {
    "colab": {
      "name": "linear_model_SD1805.ipynb",
      "version": "0.3.2",
      "views": {},
      "default_view": {},
      "provenance": [],
      "collapsed_sections": []
    },
    "kernelspec": {
      "name": "python3",
      "display_name": "Python 3"
    }
  },
  "cells": [
    {
      "metadata": {
        "id": "i8HCY_1JgUTU",
        "colab_type": "text"
      },
      "cell_type": "markdown",
      "source": [
        "### 線形回帰実装\n",
        "- SoftwareDesign 2018年5月号 連載scikit-learnで学ぶ機械学習アルゴリズムの掲載コード\n",
        "- 小川 雄太郎\n",
        "- 2018年4月22日\n",
        "- 実装・実行環境：Google Colaboratory"
      ]
    },
    {
      "metadata": {
        "id": "XVBL_VGSKyg_",
        "colab_type": "code",
        "colab": {
          "autoexec": {
            "startup": false,
            "wait_interval": 0
          },
          "base_uri": "https://localhost:8080/",
          "height": 263
        },
        "outputId": "d93527a9-e3e3-43d7-b19f-b94461daecaa",
        "executionInfo": {
          "status": "ok",
          "timestamp": 1524386386946,
          "user_tz": -540,
          "elapsed": 2266,
          "user": {
            "displayName": "小川雄太郎",
            "photoUrl": "https://lh3.googleusercontent.com/a/default-user=s128",
            "userId": "106062473482321141475"
          }
        }
      },
      "cell_type": "code",
      "source": [
        "# ライブラリのインストール\n",
        "!pip install mglearn"
      ],
      "execution_count": 2,
      "outputs": [
        {
          "output_type": "stream",
          "text": [
            "Requirement already satisfied: mglearn in /usr/local/lib/python3.6/dist-packages\r\n",
            "Requirement already satisfied: matplotlib in /usr/local/lib/python3.6/dist-packages (from mglearn)\r\n",
            "Requirement already satisfied: pillow in /usr/local/lib/python3.6/dist-packages (from mglearn)\n",
            "Requirement already satisfied: cycler in /usr/local/lib/python3.6/dist-packages (from mglearn)\n",
            "Requirement already satisfied: scikit-learn in /usr/local/lib/python3.6/dist-packages (from mglearn)\n",
            "Requirement already satisfied: numpy in /usr/local/lib/python3.6/dist-packages (from mglearn)\n",
            "Requirement already satisfied: pandas in /usr/local/lib/python3.6/dist-packages (from mglearn)\n",
            "Requirement already satisfied: pytz in /usr/local/lib/python3.6/dist-packages (from matplotlib->mglearn)\n",
            "Requirement already satisfied: pyparsing!=2.0.4,!=2.1.2,!=2.1.6,>=2.0.1 in /usr/local/lib/python3.6/dist-packages (from matplotlib->mglearn)\n",
            "Requirement already satisfied: python-dateutil>=2.1 in /usr/local/lib/python3.6/dist-packages (from matplotlib->mglearn)\n",
            "Requirement already satisfied: six>=1.10 in /usr/local/lib/python3.6/dist-packages (from matplotlib->mglearn)\n",
            "Requirement already satisfied: olefile in /usr/local/lib/python3.6/dist-packages (from pillow->mglearn)\n",
            "\u001b[33mYou are using pip version 9.0.3, however version 10.0.1 is available.\n",
            "You should consider upgrading via the 'pip install --upgrade pip' command.\u001b[0m\n"
          ],
          "name": "stdout"
        }
      ]
    },
    {
      "metadata": {
        "id": "CAkZXxkxK__a",
        "colab_type": "code",
        "colab": {
          "autoexec": {
            "startup": false,
            "wait_interval": 0
          },
          "base_uri": "https://localhost:8080/",
          "height": 88
        },
        "outputId": "23ff3f2b-f762-4db0-a93e-92557d175353",
        "executionInfo": {
          "status": "ok",
          "timestamp": 1524386393066,
          "user_tz": -540,
          "elapsed": 836,
          "user": {
            "displayName": "小川雄太郎",
            "photoUrl": "https://lh3.googleusercontent.com/a/default-user=s128",
            "userId": "106062473482321141475"
          }
        }
      },
      "cell_type": "code",
      "source": [
        "# 線形回帰モデルの実装\n",
        "\n",
        "# ①必要なライブラリのインポート\n",
        "from sklearn import linear_model\n",
        "from sklearn.model_selection import train_test_split\n",
        "from mglearn.datasets import load_extended_boston\n",
        "\n",
        "# ②データを読み込み、特徴量Xと目的変数yに分ける\n",
        "X, y = load_extended_boston()\n",
        "\n",
        "# ③データセットを訓練データとテストデータに分割(default設定で25%がテストに)\n",
        "X_train, X_test, y_train, y_test = train_test_split(X, y, random_state=0)\n",
        "\n",
        "# ④線形回帰モデルを適用する\n",
        "lm = linear_model.LinearRegression()\n",
        "lm.fit(X_train, y_train)\n",
        "print(f'coef: {lm.coef_[:4]}') # 先頭4個の重みパラメータの表示\n",
        "print(f'intercept: {lm.intercept_:.2f}') # バイアスパラメータの表示\n",
        "\n",
        "# ⑤訓練データとテストデータでモデルを評価\n",
        "print(f'Train score: {lm.score(X_train, y_train):.2f}')\n",
        "print(f'Test score: {lm.score(X_test, y_test):.2f}')"
      ],
      "execution_count": 3,
      "outputs": [
        {
          "output_type": "stream",
          "text": [
            "coef: [-402.75223586  -50.07100112 -133.31690803  -12.00210232]\n",
            "intercept: 31.65\n",
            "Train score: 0.95\n",
            "Test score: 0.61\n"
          ],
          "name": "stdout"
        }
      ]
    },
    {
      "metadata": {
        "id": "KWDrHFoyLSdq",
        "colab_type": "code",
        "colab": {
          "autoexec": {
            "startup": false,
            "wait_interval": 0
          },
          "base_uri": "https://localhost:8080/",
          "height": 88
        },
        "outputId": "3fbc792a-e0ef-4032-cc98-e09da6f24f42",
        "executionInfo": {
          "status": "ok",
          "timestamp": 1524386394848,
          "user_tz": -540,
          "elapsed": 643,
          "user": {
            "displayName": "小川雄太郎",
            "photoUrl": "https://lh3.googleusercontent.com/a/default-user=s128",
            "userId": "106062473482321141475"
          }
        }
      },
      "cell_type": "code",
      "source": [
        "# L2正則化(Ridge回帰)の実装\n",
        "\n",
        "# ①必要なライブラリのインポート\n",
        "from sklearn import linear_model\n",
        "from sklearn.model_selection import train_test_split\n",
        "from mglearn.datasets import load_extended_boston\n",
        "\n",
        "# ②データを読み込み、特徴量Xと目的変数yに分ける\n",
        "X, y = load_extended_boston()\n",
        "\n",
        "# ③データセットを訓練データとテストデータに分割(default設定で25%がテストに)\n",
        "X_train, X_test, y_train, y_test = train_test_split(X, y, random_state=0)\n",
        "\n",
        "# ④L2正則化（Ridge回帰）を適用する\n",
        "ridge = linear_model.Ridge()\n",
        "ridge.fit(X_train, y_train)\n",
        "print(f'coef: {ridge.coef_[:4]}') # 先頭4個の重みパラメータの表示\n",
        "print(f'intercept: {ridge.intercept_:.2f}') # バイアスパラメータの表示\n",
        "\n",
        "# ⑤訓練データとテストデータでモデルを評価\n",
        "print(f'Train score: {ridge.score(X_train, y_train):.2f}')\n",
        "print(f'Test score: {ridge.score(X_test, y_test):.2f}')"
      ],
      "execution_count": 4,
      "outputs": [
        {
          "output_type": "stream",
          "text": [
            "coef: [-1.45195306 -1.55625501 -1.45850339 -0.12825304]\n",
            "intercept: 21.42\n",
            "Train score: 0.89\n",
            "Test score: 0.75\n"
          ],
          "name": "stdout"
        }
      ]
    },
    {
      "metadata": {
        "id": "RUPF1RRNLgrN",
        "colab_type": "code",
        "colab": {
          "autoexec": {
            "startup": false,
            "wait_interval": 0
          },
          "base_uri": "https://localhost:8080/",
          "height": 71
        },
        "outputId": "5a3b3e17-dd69-451b-dbdc-bac1a9cdb4a1",
        "executionInfo": {
          "status": "ok",
          "timestamp": 1524386396598,
          "user_tz": -540,
          "elapsed": 764,
          "user": {
            "displayName": "小川雄太郎",
            "photoUrl": "https://lh3.googleusercontent.com/a/default-user=s128",
            "userId": "106062473482321141475"
          }
        }
      },
      "cell_type": "code",
      "source": [
        "# L1正則化(Lasso)の実装\n",
        "\n",
        "# ①必要なライブラリのインポート\n",
        "import numpy as np\n",
        "from sklearn import linear_model\n",
        "from sklearn.model_selection import train_test_split\n",
        "from mglearn.datasets import load_extended_boston\n",
        "\n",
        "# ②データを読み込み、特徴量Xと目的変数yに分ける\n",
        "X, y = load_extended_boston()\n",
        "\n",
        "# ③データセットを訓練データとテストデータに分割\n",
        "X_train, X_test, y_train, y_test = train_test_split(X, y, random_state=0)\n",
        "\n",
        "# ④L1正則化(Lasso)モデルを適用する\n",
        "lasso = linear_model.Lasso(alpha=0.01, max_iter=10000)\n",
        "lasso.fit(X_train, y_train)\n",
        "print(f'Number of nonzero parameters: {np.count_nonzero(lasso.coef_)}')\n",
        "\n",
        "# ⑤訓練データとテストデータでモデルを評価\n",
        "print(f'Train score:{lasso.score(X_train, y_train):.2f}')\n",
        "print(f'Test score:{lasso.score(X_test, y_test):.2f}')"
      ],
      "execution_count": 5,
      "outputs": [
        {
          "output_type": "stream",
          "text": [
            "Number of nonzero parameters: 33\n",
            "Train score:0.90\n",
            "Test score:0.77\n"
          ],
          "name": "stdout"
        }
      ]
    },
    {
      "metadata": {
        "id": "dP9RptE8Lrmb",
        "colab_type": "code",
        "colab": {
          "autoexec": {
            "startup": false,
            "wait_interval": 0
          }
        }
      },
      "cell_type": "code",
      "source": [
        ""
      ],
      "execution_count": 0,
      "outputs": []
    }
  ]
}