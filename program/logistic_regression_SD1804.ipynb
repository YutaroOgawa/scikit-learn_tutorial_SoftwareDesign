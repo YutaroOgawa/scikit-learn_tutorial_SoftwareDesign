{
  "nbformat": 4,
  "nbformat_minor": 0,
  "metadata": {
    "colab": {
      "name": "logistic regression_SD1804",
      "version": "0.3.2",
      "views": {},
      "default_view": {},
      "provenance": [],
      "collapsed_sections": []
    },
    "kernelspec": {
      "name": "python3",
      "display_name": "Python 3"
    }
  },
  "cells": [
    {
      "metadata": {
        "id": "lCTx_Lqw26g6",
        "colab_type": "text"
      },
      "cell_type": "markdown",
      "source": [
        "# ロジスティック回帰実装\n",
        "\n",
        "- SoftwareDesign 2018年4月号　特集「機械学習の始め方」第4章の掲載コード\n",
        "- 小川 雄太郎\n",
        "- 2018年3月1日\n",
        "- 実装・実行環境：Google Colaboratory\n",
        "\n"
      ]
    },
    {
      "metadata": {
        "id": "kbxzFZaEKPts",
        "colab_type": "code",
        "colab": {
          "autoexec": {
            "startup": false,
            "wait_interval": 0
          },
          "base_uri": "https://localhost:8080/",
          "height": 389
        },
        "outputId": "c51099e6-b495-4542-9217-cffeee5e3863",
        "executionInfo": {
          "status": "ok",
          "timestamp": 1523085505406,
          "user_tz": -540,
          "elapsed": 1089,
          "user": {
            "displayName": "小川雄太郎",
            "photoUrl": "https://lh3.googleusercontent.com/a/default-user=s128",
            "userId": "106062473482321141475"
          }
        }
      },
      "cell_type": "code",
      "source": [
        "# 模擬データを作成する　x軸:年間購入回数, y軸:平均購入単価\n",
        "\n",
        "# 1：ライブラリのインポート\n",
        "import numpy as np  # numpyライブラリをnpという呼び名で使用\n",
        "import pandas as pd  # pandasライブラリをpdという呼び名で使用\n",
        "import matplotlib.pyplot as plt  # matplotlib.pyplotをpltという呼び名で使用\n",
        "%matplotlib inline\n",
        "np.random.seed(0)  # 乱数のシードを固定\n",
        "\n",
        "# 2.1：2次元ガウス分布で模擬データ100人分を作成\n",
        "mean = [10, 10]  # 平均値\n",
        "cov = [[10, 3], [3, 10]]  # 分散共分散行列\n",
        "x1, y1 = np.random.multivariate_normal(mean, cov, 100).T  # 2次元データ生成\n",
        "true_false = np.random.rand(100) > 0.9  # 0-1の一様乱数の10%がTrue\n",
        "label1 = np.where(true_false, 1, 0)  # Advanced indexingでLabelデータ生成\n",
        "\n",
        "# 2.2：2次元ガウス分布で模擬データ100人分を作成\n",
        "mean = [20, 20]  # 平均値\n",
        "cov = [[8, 4], [4, 8]]  # 分散共分散行列\n",
        "x2, y2 = np.random.multivariate_normal(mean, cov, 100).T\n",
        "true_false = np.random.rand(100) > 0.1  # 0-1の一様乱数の90%がTrue\n",
        "label2 = np.where(true_false, 1, 0)  # Advanced indexingでLabelデータ生成\n",
        "\n",
        "# 3: データを描画\n",
        "X = (np.r_[x1, x2])  # 配列の結合\n",
        "Y = (np.r_[y1, y2])\n",
        "label = (np.r_[label1, label2])\n",
        "\n",
        "plt.figure(figsize=(6, 6))\n",
        "# ラベル1の継続会員とラベル0の退会会員をAdvanced indexingで取り出して描画\n",
        "plt.scatter(X[label == 1], Y[label == 1], marker='^', s=30,\n",
        "            c='blue', edgecolors='', label='1:continue')\n",
        "plt.scatter(X[label == 0], Y[label == 0], marker=',', s=30,\n",
        "            c='red',  edgecolors='', label='0:withdraw')\n",
        "plt.xlabel(\"Annual number of purchases\")\n",
        "plt.ylabel(\"Average purchase price\")\n",
        "plt.legend(loc=\"lower right\")  # 凡例の出現位置を制御\n",
        "plt.show()\n"
      ],
      "execution_count": 1,
      "outputs": [
        {
          "output_type": "display_data",
          "data": {
            "image/png": "[encoded data removed]",
            "text/plain": [
              "<matplotlib.figure.Figure at 0x7fa089a55710>"
            ]
          },
          "metadata": {
            "tags": []
          }
        }
      ]
    },
    {
      "metadata": {
        "id": "EVPQFspRL1cG",
        "colab_type": "code",
        "colab": {
          "autoexec": {
            "startup": false,
            "wait_interval": 0
          },
          "base_uri": "https://localhost:8080/",
          "height": 298
        },
        "outputId": "089c3247-2bfb-403d-bc6d-cc7f62bb491e",
        "executionInfo": {
          "status": "ok",
          "timestamp": 1523085514813,
          "user_tz": -540,
          "elapsed": 3804,
          "user": {
            "displayName": "小川雄太郎",
            "photoUrl": "https://lh3.googleusercontent.com/a/default-user=s128",
            "userId": "106062473482321141475"
          }
        }
      },
      "cell_type": "code",
      "source": [
        "# 識別器の学習結果をプロットする外部ライブラリをインストール\n",
        "!pip install mlxtend\n"
      ],
      "execution_count": 2,
      "outputs": [
        {
          "output_type": "stream",
          "text": [
            "Collecting mlxtend\n",
            "  Downloading mlxtend-0.11.0-py2.py3-none-any.whl (1.3MB)\n",
            "\u001b[K    100% |████████████████████████████████| 1.3MB 968kB/s \n",
            "\u001b[?25hRequirement already satisfied: pandas>=0.17.1 in /usr/local/lib/python3.6/dist-packages (from mlxtend)\n",
            "Requirement already satisfied: scikit-learn>=0.18 in /usr/local/lib/python3.6/dist-packages (from mlxtend)\n",
            "Requirement already satisfied: setuptools in /usr/lib/python3/dist-packages (from mlxtend)\n",
            "Requirement already satisfied: matplotlib>=1.5.1 in /usr/local/lib/python3.6/dist-packages (from mlxtend)\n",
            "Requirement already satisfied: numpy>=1.10.4 in /usr/local/lib/python3.6/dist-packages (from mlxtend)\n",
            "Requirement already satisfied: scipy>=0.17 in /usr/local/lib/python3.6/dist-packages (from mlxtend)\n",
            "Requirement already satisfied: pytz>=2011k in /usr/local/lib/python3.6/dist-packages (from pandas>=0.17.1->mlxtend)\n",
            "Requirement already satisfied: python-dateutil>=2 in /usr/local/lib/python3.6/dist-packages (from pandas>=0.17.1->mlxtend)\n",
            "Requirement already satisfied: six>=1.10 in /usr/local/lib/python3.6/dist-packages (from matplotlib>=1.5.1->mlxtend)\n",
            "Requirement already satisfied: pyparsing!=2.0.4,!=2.1.2,!=2.1.6,>=2.0.1 in /usr/local/lib/python3.6/dist-packages (from matplotlib>=1.5.1->mlxtend)\n",
            "Requirement already satisfied: cycler>=0.10 in /usr/local/lib/python3.6/dist-packages (from matplotlib>=1.5.1->mlxtend)\n",
            "Installing collected packages: mlxtend\n",
            "Successfully installed mlxtend-0.11.0\n"
          ],
          "name": "stdout"
        }
      ]
    },
    {
      "metadata": {
        "id": "6j39o5cqL5Xd",
        "colab_type": "code",
        "colab": {
          "autoexec": {
            "startup": false,
            "wait_interval": 0
          },
          "base_uri": "https://localhost:8080/",
          "height": 356
        },
        "outputId": "71d99d64-cd74-470a-f0b3-1f1d7b126071",
        "executionInfo": {
          "status": "ok",
          "timestamp": 1523085521488,
          "user_tz": -540,
          "elapsed": 828,
          "user": {
            "displayName": "小川雄太郎",
            "photoUrl": "https://lh3.googleusercontent.com/a/default-user=s128",
            "userId": "106062473482321141475"
          }
        }
      },
      "cell_type": "code",
      "source": [
        "# ①ライブラリのインポート\n",
        "from sklearn import linear_model, cross_validation, metrics\n",
        "from mlxtend.plotting import plot_decision_regions  # 識別器の学習結果をプロットする外部ライブラリを利用\n",
        "\n",
        "# ②訓練データとテストデータの用意\n",
        "Data = (np.c_[X, Y])\n",
        "D_train, D_test, label_train, label_test = cross_validation.train_test_split(\n",
        "    Data, label, test_size=0.2, random_state=0)\n",
        "\n",
        "# ③モデルの選択と訓練データによる学習（ロジスティック回帰で分類）\n",
        "clf = linear_model.LogisticRegression()  # 引数デフォルト設定でclassificatorのオブジェクトを生成\n",
        "clf.fit(D_train, label_train)\n",
        "\n",
        "# ④テストデータで性能評価\n",
        "label_pre = clf.predict(D_test)  # テストデータのラベルを識別器でpredicitonする\n",
        "ac_score = metrics.accuracy_score(label_test, label_pre)  # 正答率を計算\n",
        "print(\"正答率 =\" + str(ac_score))\n",
        "\n",
        "plot_decision_regions(D_test, label_test, clf=clf,\n",
        "                      res=0.01, legend=2)  # #学習した識別平面とテストデータをプロットする\n",
        "\n",
        "# ⑤未知のデータを分類\n",
        "label_prenew = clf.predict([[20, 15]]) # 適当なデータ[20,15]を分類\n",
        "print(\"新たな顧客のラベルは \" + str(label_prenew) + \"です。\")\n",
        "# この顧客のラベルは [1]です。と出力されます\n"
      ],
      "execution_count": 3,
      "outputs": [
        {
          "output_type": "stream",
          "text": [
            "正答率 =0.85\n",
            "新たな顧客のラベルは [1]です。\n"
          ],
          "name": "stdout"
        },
        {
          "output_type": "stream",
          "text": [
            "/usr/local/lib/python3.6/dist-packages/sklearn/cross_validation.py:41: DeprecationWarning: This module was deprecated in version 0.18 in favor of the model_selection module into which all the refactored classes and functions are moved. Also note that the interface of the new CV iterators are different from that of this module. This module will be removed in 0.20.\n",
            "  \"This module will be removed in 0.20.\", DeprecationWarning)\n"
          ],
          "name": "stderr"
        },
        {
          "output_type": "display_data",
          "data": {
            "image/png": "[encoded data removed]",
            "text/plain": [
              "<matplotlib.figure.Figure at 0x7fa06fc3f860>"
            ]
          },
          "metadata": {
            "tags": []
          }
        }
      ]
    },
    {
      "metadata": {
        "id": "5fNaoMQiKQgM",
        "colab_type": "code",
        "colab": {
          "autoexec": {
            "startup": false,
            "wait_interval": 0
          }
        }
      },
      "cell_type": "code",
      "source": [
        ""
      ],
      "execution_count": 0,
      "outputs": []
    }
  ]
}